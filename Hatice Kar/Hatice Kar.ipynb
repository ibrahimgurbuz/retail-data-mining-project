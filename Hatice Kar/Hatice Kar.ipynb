{
  "cells": [
    {
      "cell_type": "code",
      "execution_count": null,
      "metadata": {
        "colab": {
          "base_uri": "https://localhost:8080/"
        },
        "id": "OvdazNsnXDyA",
        "outputId": "a766a7ba-54c8-4c82-f8e8-852703dbdae1"
      },
      "outputs": [
        {
          "name": "stdout",
          "output_type": "stream",
          "text": [
            "  InvoiceNo StockCode                          Description  Quantity  \\\n",
            "0    536365    85123A   WHITE HANGING HEART T-LIGHT HOLDER         6   \n",
            "1    536365     71053                  WHITE METAL LANTERN         6   \n",
            "2    536365    84406B       CREAM CUPID HEARTS COAT HANGER         8   \n",
            "3    536365    84029G  KNITTED UNION FLAG HOT WATER BOTTLE         6   \n",
            "4    536365    84029E       RED WOOLLY HOTTIE WHITE HEART.         6   \n",
            "\n",
            "          InvoiceDate  UnitPrice  CustomerID         Country  \n",
            "0 2010-12-01 08:26:00       2.55     17850.0  United Kingdom  \n",
            "1 2010-12-01 08:26:00       3.39     17850.0  United Kingdom  \n",
            "2 2010-12-01 08:26:00       2.75     17850.0  United Kingdom  \n",
            "3 2010-12-01 08:26:00       3.39     17850.0  United Kingdom  \n",
            "4 2010-12-01 08:26:00       3.39     17850.0  United Kingdom  \n",
            "\n",
            "InvoiceNo              object\n",
            "StockCode              object\n",
            "Description            object\n",
            "Quantity                int64\n",
            "InvoiceDate    datetime64[ns]\n",
            "UnitPrice             float64\n",
            "CustomerID            float64\n",
            "Country                object\n",
            "dtype: object\n",
            "\n",
            "<class 'pandas.core.frame.DataFrame'>\n",
            "RangeIndex: 541909 entries, 0 to 541908\n",
            "Data columns (total 8 columns):\n",
            " #   Column       Non-Null Count   Dtype         \n",
            "---  ------       --------------   -----         \n",
            " 0   InvoiceNo    541909 non-null  object        \n",
            " 1   StockCode    541909 non-null  object        \n",
            " 2   Description  540455 non-null  object        \n",
            " 3   Quantity     541909 non-null  int64         \n",
            " 4   InvoiceDate  541909 non-null  datetime64[ns]\n",
            " 5   UnitPrice    541909 non-null  float64       \n",
            " 6   CustomerID   406829 non-null  float64       \n",
            " 7   Country      541909 non-null  object        \n",
            "dtypes: datetime64[ns](1), float64(2), int64(1), object(4)\n",
            "memory usage: 33.1+ MB\n",
            "None\n",
            "\n",
            "InvoiceNo           0\n",
            "StockCode           0\n",
            "Description      1454\n",
            "Quantity            0\n",
            "InvoiceDate         0\n",
            "UnitPrice           0\n",
            "CustomerID     135080\n",
            "Country             0\n",
            "dtype: int64\n"
          ]
        }
      ],
      "source": [
        "import pandas as pd\n",
        "\n",
        "# Veri setini bir Excel dosyasından yükleyelim\n",
        "url = 'https://archive.ics.uci.edu/ml/machine-learning-databases/00352/Online%20Retail.xlsx'\n",
        "df = pd.read_excel(url)\n",
        "\n",
        "# Veri setinin ilk 5 satırı\n",
        "print(df.head())\n",
        "print(\"\")\n",
        "\n",
        "# Sütunların veri tipleri\n",
        "print(df.dtypes)\n",
        "print(\"\")\n",
        "\n",
        "# veri setinin boyutu\n",
        "print(df.info())\n",
        "print(\"\")\n",
        "\n",
        "# Her sütundaki eksik değerlerin sayısı\n",
        "print(df.isnull().sum())\n",
        "\n"
      ]
    },
    {
      "cell_type": "code",
      "execution_count": null,
      "metadata": {
        "colab": {
          "base_uri": "https://localhost:8080/"
        },
        "id": "CJL8HAJgXJiF",
        "outputId": "bfd921be-d278-410a-949e-c66dfe727c76"
      },
      "outputs": [
        {
          "name": "stdout",
          "output_type": "stream",
          "text": [
            "Güncellenmiş veri seti 'Cleaned Data Set.xlsx' olarak kaydedildi.\n"
          ]
        }
      ],
      "source": [
        "import pandas as pd\n",
        "\n",
        "# Colab'daki dosya yolu\n",
        "file_path = \"Online Retail.xlsx\"\n",
        "\n",
        "# Veri setini yükleme\n",
        "df = pd.read_excel(file_path)\n",
        "\n",
        "# CustomerID sütununda eksik değerlerin silinmesi\n",
        "df_cleaned = df.dropna(subset=['CustomerID'])\n",
        "\n",
        "# Güncellenmiş veri setini kaydetme\n",
        "df_cleaned.to_excel(\"1-) Cleaned Data Set.xlsx\", index=False)\n",
        "\n",
        "print(\"Güncellenmiş veri seti 'Cleaned Data Set.xlsx' olarak kaydedildi.\")\n"
      ]
    },
    {
      "cell_type": "code",
      "execution_count": null,
      "metadata": {
        "colab": {
          "base_uri": "https://localhost:8080/"
        },
        "id": "O2LCoEEsXWh3",
        "outputId": "253fac8b-0f3c-4bbf-910b-0c0d707dfe30"
      },
      "outputs": [
        {
          "name": "stdout",
          "output_type": "stream",
          "text": [
            "Güncellenmiş veri seti '2-)Description and CustomerID Filled.xlsx' olarak kaydedildi.\n"
          ]
        }
      ],
      "source": [
        "import pandas as pd\n",
        "\n",
        "# Güncellenmiş veri seti\n",
        "file_path = \"1-) Cleaned Data Set.xlsx\"\n",
        "df_cleaned = pd.read_excel(file_path)\n",
        "\n",
        "# CustomerID sütununda eksik değerlerin silinmesi\n",
        "df_cleaned = df.dropna(subset=['Description'])\n",
        "\n",
        "# CustomerID ve Description sütunlarında eksik değerler silindi.\n",
        "df_cleaned.to_excel(\"2-)Description and CustomerID Filled.xlsx\", index=False)\n",
        "\n",
        "\n",
        "print(\"Güncellenmiş veri seti '2-)Description and CustomerID Filled.xlsx' olarak kaydedildi.\")\n"
      ]
    },
    {
      "cell_type": "code",
      "execution_count": null,
      "metadata": {
        "colab": {
          "base_uri": "https://localhost:8080/"
        },
        "id": "wj7CTPCeX13h",
        "outputId": "12a5930a-3410-468f-f9da-976d168894c8"
      },
      "outputs": [
        {
          "name": "stdout",
          "output_type": "stream",
          "text": [
            "Veri setinin boyutu (satır, sütun): (406829, 8)\n",
            "<class 'pandas.core.frame.DataFrame'>\n",
            "RangeIndex: 406829 entries, 0 to 406828\n",
            "Data columns (total 8 columns):\n",
            " #   Column       Non-Null Count   Dtype         \n",
            "---  ------       --------------   -----         \n",
            " 0   InvoiceNo    406829 non-null  object        \n",
            " 1   StockCode    406829 non-null  object        \n",
            " 2   Description  406829 non-null  object        \n",
            " 3   Quantity     406829 non-null  int64         \n",
            " 4   InvoiceDate  406829 non-null  datetime64[ns]\n",
            " 5   UnitPrice    406829 non-null  float64       \n",
            " 6   CustomerID   406829 non-null  int64         \n",
            " 7   Country      406829 non-null  object        \n",
            "dtypes: datetime64[ns](1), float64(1), int64(2), object(4)\n",
            "memory usage: 24.8+ MB\n",
            "None\n",
            "InvoiceNo      0\n",
            "StockCode      0\n",
            "Description    0\n",
            "Quantity       0\n",
            "InvoiceDate    0\n",
            "UnitPrice      0\n",
            "CustomerID     0\n",
            "Country        0\n",
            "dtype: int64\n"
          ]
        }
      ],
      "source": [
        "import pandas as pd\n",
        "\n",
        "file_path = \"1-) Cleaned Data Set.xlsx\"\n",
        "df = pd.read_excel(file_path)\n",
        "\n",
        "# Güncel veri setinin boyutu\n",
        "print(\"Veri setinin boyutu (satır, sütun):\", df.shape)\n",
        "print(df.info())\n",
        "\n",
        "# Güncel veri setinde eksik değer var mı yok mu tekrar kontrol ediyoruz\n",
        "print(df.isnull().sum())\n"
      ]
    },
    {
      "cell_type": "code",
      "execution_count": null,
      "metadata": {
        "colab": {
          "base_uri": "https://localhost:8080/"
        },
        "id": "AUwks2keYaol",
        "outputId": "96c60a6d-84f8-466f-ee70-76ebcfa24dfe"
      },
      "outputs": [
        {
          "name": "stdout",
          "output_type": "stream",
          "text": [
            "Tamamen aynı olan yinelenen satır sayısı: 5225\n",
            "Tamamen aynı olan yinelenen satırlar:\n",
            "       InvoiceNo StockCode                        Description  Quantity  \\\n",
            "517       536409     21866        UNION JACK FLAG LUGGAGE TAG         1   \n",
            "527       536409     22866      HAND WARMER SCOTTY DOG DESIGN         1   \n",
            "537       536409     22900    SET 2 TEA TOWELS I LOVE LONDON          1   \n",
            "539       536409     22111       SCOTTIE DOG HOT WATER BOTTLE         1   \n",
            "555       536412     22327  ROUND SNACK BOXES SET OF 4 SKULLS         1   \n",
            "...          ...       ...                                ...       ...   \n",
            "406595    581538     22068        BLACK PIRATE TREASURE CHEST         1   \n",
            "406609    581538     23318     BOX OF 6 MINI VINTAGE CRACKERS         1   \n",
            "406612    581538     22992             REVOLVER WOODEN RULER          1   \n",
            "406619    581538     22694                       WICKER STAR          1   \n",
            "406621    581538     23343       JUMBO BAG VINTAGE CHRISTMAS          1   \n",
            "\n",
            "               InvoiceDate  UnitPrice  CustomerID         Country  \n",
            "517    2010-12-01 11:45:00       1.25       17908  United Kingdom  \n",
            "527    2010-12-01 11:45:00       2.10       17908  United Kingdom  \n",
            "537    2010-12-01 11:45:00       2.95       17908  United Kingdom  \n",
            "539    2010-12-01 11:45:00       4.95       17908  United Kingdom  \n",
            "555    2010-12-01 11:49:00       2.95       17920  United Kingdom  \n",
            "...                    ...        ...         ...             ...  \n",
            "406595 2011-12-09 11:34:00       0.39       14446  United Kingdom  \n",
            "406609 2011-12-09 11:34:00       2.49       14446  United Kingdom  \n",
            "406612 2011-12-09 11:34:00       1.95       14446  United Kingdom  \n",
            "406619 2011-12-09 11:34:00       2.10       14446  United Kingdom  \n",
            "406621 2011-12-09 11:34:00       2.08       14446  United Kingdom  \n",
            "\n",
            "[5225 rows x 8 columns]\n",
            "Tamamen aynı olan yinelenen satırlar silindi. Güncel veri seti boyutu: (401604, 8)\n",
            "Güncellenmiş yeni veri seti '3-)No Duplicates.xlsx' olarak kaydedildi.\n"
          ]
        }
      ],
      "source": [
        "import pandas as pd\n",
        "\n",
        "file_path = \"1-) Cleaned Data Set.xlsx\"\n",
        "df = pd.read_excel(file_path)\n",
        "\n",
        "# Yinelenen satırları kontrol etme (tamamıyla aynı olanalra bakıyorum)\n",
        "duplicate_count = df.duplicated().sum()\n",
        "print(\"Tamamen aynı olan yinelenen satır sayısı:\", duplicate_count)\n",
        "\n",
        "# Eğer tamamen aynı satırlar ise\n",
        "if duplicate_count > 0:\n",
        "    duplicates = df[df.duplicated()]\n",
        "    print(\"Tamamen aynı olan yinelenen satırlar:\")\n",
        "    print(duplicates)\n",
        "\n",
        "# Tamamen aynı olan satırları silme\n",
        "df = df.drop_duplicates()\n",
        "print(\"Tamamen aynı olan yinelenen satırlar silindi. Güncel veri seti boyutu:\", df.shape)\n",
        "\n",
        "# Temizlenmiş veri seti\n",
        "df.to_excel(\"3-)No Duplicates.xlsx\", index=False)\n",
        "\n",
        "print(\"Güncellenmiş yeni veri seti '3-)No Duplicates.xlsx' olarak kaydedildi.\")\n"
      ]
    },
    {
      "cell_type": "markdown",
      "metadata": {
        "id": "j2uEX95OYfcr"
      },
      "source": [
        "# Negatif Değerlerin Anlamı ve Kontrol Edilmesi\n",
        "1. Quantity (Miktar):\n",
        "  * Bu sütun, işlemlerde alınan ürün miktarını ifade eder.\n",
        "  * Negatif değerler, ürün iadesini veya yanlış bir veri girişini temsil edebilir. Örneğin, müşteri ürünü iade ettiğinde, satın alma miktarı negatif olarak kaydedilebilir.\n",
        "  * Eğer analiz sadece satışlara odaklanıyorsa, bu negatif değerler çıkarılmalıdır. Ancak, analiziniz iade işlemlerini de kapsıyorsa, bu veriler tutulabilir.\n",
        "2. UnitPrice (Birim Fiyat):\n",
        "  * Bu sütun, bir ürünün birim başına fiyatını ifade eder.\n",
        "  * Negatif değerler, veri girişinde bir hata veya yanlış bir işlem olduğunu gösterir. Ürünlerin fiyatlarının negatif olması mantıklı değildir.\n",
        "  * Bu nedenle, UnitPrice sütunundaki negatif değerler her durumda temizlenmelidir."
      ]
    },
    {
      "cell_type": "code",
      "execution_count": null,
      "metadata": {
        "colab": {
          "base_uri": "https://localhost:8080/"
        },
        "id": "N4ivcu2zYkYD",
        "outputId": "10636abd-a088-4bd7-f0d2-fc4f183acad1"
      },
      "outputs": [
        {
          "name": "stdout",
          "output_type": "stream",
          "text": [
            "Negatif UnitPrice satır sayısı: 0\n",
            "Güncel veri seti boyutu: (406829, 8)\n"
          ]
        }
      ],
      "source": [
        "import pandas as pd\n",
        "\n",
        "file_path = \"1-) Cleaned Data Set.xlsx\"\n",
        "df = pd.read_excel(file_path)\n",
        "\n",
        "# UnitPrice'da negatif değerler\n",
        "negative_unitprice = df[df['UnitPrice'] < 0]\n",
        "print(\"Negatif UnitPrice satır sayısı:\", len(negative_unitprice))\n",
        "# Temizlenmiş veri setinin boyutu\n",
        "\n",
        "print(\"Güncel veri seti boyutu:\", df.shape)"
      ]
    },
    {
      "cell_type": "code",
      "execution_count": null,
      "metadata": {
        "colab": {
          "base_uri": "https://localhost:8080/"
        },
        "id": "VWDhlLqLYlCM",
        "outputId": "ae43e0ae-22e9-4788-bd16-e1cf7bb16f00"
      },
      "outputs": [
        {
          "name": "stdout",
          "output_type": "stream",
          "text": [
            "Negatif Quantity satır sayısı: 8905\n"
          ]
        }
      ],
      "source": [
        "import pandas as pd\n",
        "\n",
        "file_path = \"1-) Cleaned Data Set.xlsx\"\n",
        "df = pd.read_excel(file_path)\n",
        "\n",
        "# Quantity'de negatif değerleri kontrol etme\n",
        "negative_quantity = df[df['Quantity'] < 0]\n",
        "print(\"Negatif Quantity satır sayısı:\", len(negative_quantity))\n",
        "\n"
      ]
    },
    {
      "cell_type": "code",
      "execution_count": null,
      "metadata": {
        "colab": {
          "base_uri": "https://localhost:8080/"
        },
        "id": "r9p4s-PgYo5V",
        "outputId": "a832715b-ec0c-4f21-a113-57b65e4f41db"
      },
      "outputs": [
        {
          "name": "stdout",
          "output_type": "stream",
          "text": [
            "Negatif Quantity satır sayısı: 8905\n",
            "Negatif Quantity değerleri:\n",
            "       InvoiceNo StockCode                       Description  Quantity  \\\n",
            "141      C536379         D                          Discount        -1   \n",
            "154      C536383    35004C   SET OF 3 COLOURED  FLYING DUCKS        -1   \n",
            "235      C536391     22556    PLASTERS IN TIN CIRCUS PARADE        -12   \n",
            "236      C536391     21984  PACK OF 12 PINK PAISLEY TISSUES        -24   \n",
            "237      C536391     21983  PACK OF 12 BLUE PAISLEY TISSUES        -24   \n",
            "...          ...       ...                               ...       ...   \n",
            "406377   C581490     23144   ZINC T-LIGHT HOLDER STARS SMALL       -11   \n",
            "406461   C581499         M                            Manual        -1   \n",
            "406635   C581568     21258        VICTORIAN SEWING BOX LARGE        -5   \n",
            "406636   C581569     84978  HANGING HEART JAR T-LIGHT HOLDER        -1   \n",
            "406637   C581569     20979     36 PENCILS TUBE RED RETROSPOT        -5   \n",
            "\n",
            "               InvoiceDate  UnitPrice  CustomerID         Country  \n",
            "141    2010-12-01 09:41:00      27.50       14527  United Kingdom  \n",
            "154    2010-12-01 09:49:00       4.65       15311  United Kingdom  \n",
            "235    2010-12-01 10:24:00       1.65       17548  United Kingdom  \n",
            "236    2010-12-01 10:24:00       0.29       17548  United Kingdom  \n",
            "237    2010-12-01 10:24:00       0.29       17548  United Kingdom  \n",
            "...                    ...        ...         ...             ...  \n",
            "406377 2011-12-09 09:57:00       0.83       14397  United Kingdom  \n",
            "406461 2011-12-09 10:28:00     224.69       15498  United Kingdom  \n",
            "406635 2011-12-09 11:57:00      10.95       15311  United Kingdom  \n",
            "406636 2011-12-09 11:58:00       1.25       17315  United Kingdom  \n",
            "406637 2011-12-09 11:58:00       1.25       17315  United Kingdom  \n",
            "\n",
            "[8905 rows x 8 columns]\n",
            "Güncel veri seti boyutu: (397924, 8)\n",
            "Güncel veri seti '4-)Quantity Values Positive.xlsx' olarak kaydedildi.\n"
          ]
        }
      ],
      "source": [
        "import pandas as pd\n",
        "\n",
        "file_path = \"1-) Cleaned Data Set.xlsx\"\n",
        "df = pd.read_excel(file_path)\n",
        "\n",
        "# Quantity'de negatif değerleri kontrol etme\n",
        "negative_quantity = df[df['Quantity'] < 0]\n",
        "print(\"Negatif Quantity satır sayısı:\", len(negative_quantity))\n",
        "\n",
        "# Eğer negatif Quantity değerleri var ise\n",
        "if len(negative_quantity) > 0:\n",
        "    print(\"Negatif Quantity değerleri:\")\n",
        "    print(negative_quantity)\n",
        "\n",
        "# Negatif Quantity değerlerini çıkarma\n",
        "df_cleaned = df[df['Quantity'] >= 0]\n",
        "\n",
        "# Güncellenmiş veri setinin boyutunu kontrol et\n",
        "print(\"Güncel veri seti boyutu:\", df_cleaned.shape)\n",
        "\n",
        "# Güncellenmiş veri setini kaydetme\n",
        "cleaned_file_path = \"4-)Quantity Values Positive.xlsx\"\n",
        "df_cleaned.to_excel(cleaned_file_path, index=False)\n",
        "\n",
        "print(\"Güncel veri seti '4-)Quantity Values Positive.xlsx' olarak kaydedildi.\")\n"
      ]
    },
    {
      "cell_type": "code",
      "execution_count": null,
      "metadata": {
        "colab": {
          "base_uri": "https://localhost:8080/"
        },
        "id": "4C_oPo3UYvwL",
        "outputId": "ed0d2a12-bf32-4918-c90c-561466bdc518"
      },
      "outputs": [
        {
          "name": "stdout",
          "output_type": "stream",
          "text": [
            "Güncellenmiş veri seti '5-)Feature Engineered.xlsx' olarak kaydedildi.\n"
          ]
        }
      ],
      "source": [
        "import pandas as pd\n",
        "\n",
        "file_path = \"4-)Quantity Values Positive.xlsx\"\n",
        "df = pd.read_excel(file_path)\n",
        "\n",
        "# Yeni özellik: TotalPrice (Toplam Fiyat) --> TotalPrice=Quantity*UnitPrice\n",
        "df['TotalPrice'] = df['Quantity'] * df['UnitPrice']\n",
        "\n",
        "# Güncellenmiş veri setini kaydetme\n",
        "df.to_excel(\"5-)Feature Engineered.xlsx\", index=False)\n",
        "\n",
        "print(\"Güncellenmiş veri seti '5-)Feature Engineered.xlsx' olarak kaydedildi.\")\n"
      ]
    },
    {
      "cell_type": "code",
      "execution_count": null,
      "metadata": {
        "colab": {
          "base_uri": "https://localhost:8080/"
        },
        "id": "2VUL6t3lYwYv",
        "outputId": "bbf7aa68-5976-4744-ff47-2fd6a1e7efc1"
      },
      "outputs": [
        {
          "name": "stdout",
          "output_type": "stream",
          "text": [
            "Toplam satır sayısı: 397924\n",
            "Toplam sütun sayısı: 9\n",
            "\n",
            "Sütun Adları ve Veri Türleri:\n",
            "InvoiceNo               int64\n",
            "StockCode              object\n",
            "Description            object\n",
            "Quantity                int64\n",
            "InvoiceDate    datetime64[ns]\n",
            "UnitPrice             float64\n",
            "CustomerID              int64\n",
            "Country                object\n",
            "TotalPrice            float64\n",
            "dtype: object\n",
            "\n",
            "   InvoiceNo StockCode                          Description  Quantity  \\\n",
            "0     536365    85123A   WHITE HANGING HEART T-LIGHT HOLDER         6   \n",
            "1     536365     71053                  WHITE METAL LANTERN         6   \n",
            "2     536365    84406B       CREAM CUPID HEARTS COAT HANGER         8   \n",
            "3     536365    84029G  KNITTED UNION FLAG HOT WATER BOTTLE         6   \n",
            "4     536365    84029E       RED WOOLLY HOTTIE WHITE HEART.         6   \n",
            "\n",
            "          InvoiceDate  UnitPrice  CustomerID         Country  TotalPrice  \n",
            "0 2010-12-01 08:26:00       2.55       17850  United Kingdom       15.30  \n",
            "1 2010-12-01 08:26:00       3.39       17850  United Kingdom       20.34  \n",
            "2 2010-12-01 08:26:00       2.75       17850  United Kingdom       22.00  \n",
            "3 2010-12-01 08:26:00       3.39       17850  United Kingdom       20.34  \n",
            "4 2010-12-01 08:26:00       3.39       17850  United Kingdom       20.34  \n"
          ]
        }
      ],
      "source": [
        "import pandas as pd\n",
        "\n",
        "file_path = \"5-)Feature Engineered.xlsx\"\n",
        "df = pd.read_excel(file_path)\n",
        "\n",
        "# Veri setinin  satır ve sütun sayısı\n",
        "print(f\"Toplam satır sayısı: {df.shape[0]}\")\n",
        "print(f\"Toplam sütun sayısı: {df.shape[1]}\")\n",
        "\n",
        "# Sütun adlarını ve veri türleri\n",
        "print(\"\\nSütun Adları ve Veri Türleri:\")\n",
        "print(df.dtypes)\n",
        "print(\"\")\n",
        "print(df.head())\n"
      ]
    },
    {
      "cell_type": "markdown",
      "metadata": {
        "id": "wYNL3BFxY6iO"
      },
      "source": [
        "*  Veri setinde normalizasyona ihtiyaç duyulmasının temel nedenleri, veri analizi, makine öğrenimi modelleri ve istatistiksel yöntemlerin daha verimli ve doğru bir şekilde çalışmasını sağlamaktır.\n",
        "\n",
        "1. Özelliklerin Farklı Ölçeklerde Olması\n",
        "Veri setindeki sütunlar (özellikler) genellikle farklı ölçüm birimlerine veya aralıklara sahip olabilir.\n",
        "Örneğin:\n",
        "Ağırlık (kg cinsinden, 0-100 arasında olabilir).\n",
        "Maaş (₺ cinsinden, 1000-100000 arasında olabilir).\n",
        "Eğer bu özellikler aynı ölçeğe getirilmezse, bazı algoritmalar büyük değerlere sahip sütunları daha fazla önemser, bu da hatalı sonuçlara yol açabilir.\n",
        "Örnek: Bir sınıflandırma algoritması, \"Maaş\" sütununu \"Ağırlık\" sütunundan daha önemli gibi görebilir sadece maaş değerleri daha büyük olduğu için.\n",
        "\n",
        "2. Algoritmaların Daha İyi Çalışması\n",
        "Mesafe tabanlı algoritmalar (örn. K-En Yakın Komşu, K-Means, Destek Vektör Makineleri), iki veri noktası arasındaki mesafeyi hesaplamak için özelliklerin ölçeğine duyarlıdır.\n",
        "Eğer veri setinde bir özellik diğerlerinden çok daha büyük ölçeklere sahipse, bu algoritma o özelliği daha baskın hale getirir.\n",
        "Bu yüzden, tüm özellikleri benzer bir aralığa (örneğin 0-1) dönüştürmek gereklidir.\n",
        "Örnek: K-Means algoritması, kümeleri belirlerken özelliklerin ölçeğine çok duyarlıdır. Normalizasyon yapılmadığında yanlış kümeler oluşturabilir.\n",
        "\n",
        "3. Daha Hızlı ve Stabil Model Eğitimini Sağlamak\n",
        "Makine öğrenimi modelleri, özellikle gradyan tabanlı optimizasyon kullanan algoritmalar (örneğin Yapay Sinir Ağları, Lojistik Regresyon) için, normalizasyon hesaplamaların daha hızlı ve stabil olmasını sağlar.\n",
        "Büyük değerler, modelin ağırlık güncellemelerini bozabilir veya gradyan patlamasına yol açabilir.\n",
        "Küçük ve dengeli değerlerle model daha hızlı öğrenir.\n",
        "4. Aykırı Değerlerin Etkisini Azaltmak\n",
        "Özellikle normalizasyon ile birlikte kullanılan standartlaştırma (z-score normalization) yöntemleri, veri setindeki aykırı değerlerin etkisini azaltabilir. Bu, özelliklerin ortalamasını ve standart sapmasını hesaba katarak veriyi ölçeklendirir.\n",
        "5. Karşılaştırılabilirlik Sağlamak\n",
        "Farklı ölçeklerdeki özellikleri karşılaştırmak zordur. Normalizasyon, tüm özellikleri aynı ölçeğe çekerek bu karşılaştırılabilirliği sağlar.\n",
        "Örnek: Bir veri setindeki \"Gelir\" ve \"Yaş\" sütunlarını anlamlı bir şekilde karşılaştırmak için normalizasyon gerekebilir.\n",
        "\n",
        "6. Model Performansını Artırmak\n",
        "Normalizasyon, bazı modellerin performansını artırabilir çünkü özellikler arasındaki farkların daha iyi anlaşılmasını sağlar.\n",
        "Özellikle derin öğrenme modelleri ve regresyon modelleri, normalizasyonla daha doğru sonuçlar verir.\n",
        "7. Çıktının Yorumlanabilirliğini Artırmak\n",
        "Normalizasyon, model çıktılarını yorumlamayı kolaylaştırabilir. Özellikle 0-1 aralığına getirilen veriler, anlam açısından daha tutarlı hale gelir.\n"
      ]
    },
    {
      "cell_type": "markdown",
      "metadata": {
        "id": "KmJyIqcfZDS3"
      },
      "source": [
        "**Normalizasyon Çeşitleri**\n",
        "1. Min-Max Normalizasyonu: Veriyi 0 ile 1 arasında ölçekler.\n",
        "  * x'= (x-min(x))/(max(x)-min(x))\n",
        "\n",
        "2. Z-Score Normalizasyonu: Veriyi standart normal dağılıma uyarlar (μ=0,σ=1)\n",
        "  * x' = (x-μ)/σ\n",
        "\n",
        "3. Decimal Scaling: Veriyi 10'un kuvvetleriyle ölçekler."
      ]
    },
    {
      "cell_type": "code",
      "execution_count": null,
      "metadata": {
        "colab": {
          "background_save": true,
          "base_uri": "https://localhost:8080/"
        },
        "id": "5_7RBgOeZAOj",
        "outputId": "29b0fe5b-e367-4ebf-9abc-d13c62ba29a9"
      },
      "outputs": [
        {
          "name": "stdout",
          "output_type": "stream",
          "text": [
            "Normalizasyon tamamlandı, veri seti '6-)Data Set Normalized.xlsx' olarak kaydedildi.\n",
            "Min ve Max değerleri (Normalizasyon öncesi):\n",
            "Quantity: Min = 1, Max = 80995\n",
            "UnitPrice: Min = 0.0, Max = 8142.75\n",
            "TotalPrice: Min = 0.0, Max = 168469.6\n"
          ]
        }
      ],
      "source": [
        "import pandas as pd\n",
        "\n",
        "file_path = \"5-)Feature Engineered.xlsx\"\n",
        "df = pd.read_excel(file_path)\n",
        "\n",
        "# Normalizasyon uygulanacak sütunlar\n",
        "columns_to_normalize = ['Quantity', 'UnitPrice', 'TotalPrice']\n",
        "\n",
        "# Her sütun için Min ve Max değerleri\n",
        "min_max_values = {}\n",
        "for column in columns_to_normalize:\n",
        "    min_val = df[column].min()\n",
        "    max_val = df[column].max()\n",
        "    min_max_values[column] = {'min': min_val, 'max': max_val}\n",
        "\n",
        "\n",
        "for column in columns_to_normalize:\n",
        "    min_val = min_max_values[column]['min']\n",
        "    max_val = min_max_values[column]['max']\n",
        "    df[column] = (df[column] - min_val) / (max_val - min_val)\n",
        "\n",
        "# Normalizasyon sonrası veri setini kaydetme işlemi\n",
        "normalized_file_path = \"6-)Data Set Normalized.xlsx\"\n",
        "df.to_excel(normalized_file_path, index=False)\n",
        "\n",
        "\n",
        "print(\"Normalizasyon tamamlandı, veri seti '6-)Data Set Normalized.xlsx' olarak kaydedildi.\")\n",
        "print(\"Min ve Max değerleri (Normalizasyon öncesi):\")\n",
        "for column, values in min_max_values.items():\n",
        "    print(f\"{column}: Min = {values['min']}, Max = {values['max']}\")\n"
      ]
    },
    {
      "cell_type": "code",
      "execution_count": null,
      "metadata": {
        "colab": {
          "base_uri": "https://localhost:8080/"
        },
        "id": "GbHQJHY2ZHVd",
        "outputId": "6481bc0d-fcfe-4e45-c9b1-2a3bfec4449c"
      },
      "outputs": [
        {
          "name": "stdout",
          "output_type": "stream",
          "text": [
            "Yeni veri seti '7-)Feature Engineered with Normalized Columns.xlsx' olarak kaydedildi.\n"
          ]
        }
      ],
      "source": [
        "import pandas as pd\n",
        "from sklearn.preprocessing import MinMaxScaler\n",
        "\n",
        "file_path = \"5-)Feature Engineered.xlsx\"\n",
        "df = pd.read_excel(file_path)\n",
        "\n",
        "# normalize edilen sutünlar\n",
        "columns_to_normalize = ['Quantity', 'UnitPrice', 'TotalPrice']\n",
        "\n",
        "\n",
        "scaler = MinMaxScaler()\n",
        "\n",
        "# yeni sutünlar olşturrmak\n",
        "for column in columns_to_normalize:\n",
        "    normalized_column_name = f\"{column}Normalized\"\n",
        "    df[normalized_column_name] = scaler.fit_transform(df[[column]])\n",
        "\n",
        "\n",
        "normalized_file_path = \"7-)Feature Engineered with Normalized Columns.xlsx\"\n",
        "df.to_excel(normalized_file_path, index=False)\n",
        "\n",
        "print(f\"Yeni veri seti '7-)Feature Engineered with Normalized Columns.xlsx' olarak kaydedildi.\")\n"
      ]
    },
    {
      "cell_type": "markdown",
      "metadata": {
        "id": "gIkTv2yuZMux"
      },
      "source": [
        "Bu hesaplamaları yapmanızın ve bu büyük veri seti üzerinde çalışmanızın nedenleri aşağıda açıklanmıştır:\n",
        "\n",
        "1. Veri Dağılımını Anlamak:\n",
        "Ortalama (mean), medyan (median), standart sapma (std), minimum (min) ve maksimum (max) değerleri, veri setindeki sütunların dağılımını anlamak için kullanılır. Bu, verilerin genel özelliklerini özetler ve normalizasyonun etkisini değerlendirmenizi sağlar.\n",
        "2. Aykırı Değerleri Tespit Etmek:\n",
        "Standart sapma ve maksimum değerler, veri setinde aykırı değerlerin (outliers) olup olmadığını anlamak için önemlidir. Örneğin, \"Quantity\" sütunundaki 80,995 gibi yüksek bir değer, veri setinde bir aykırılık olduğunu gösterebilir.\n",
        "3. Normalizasyonun Doğruluğunu Kontrol Etmek:\n",
        "Normalizasyon öncesi değerlerle karşılaştırma yaparak, verilerin doğru ölçeklendiğinden emin olabilirsiniz. Minimum ve maksimum değerlerin 0 ile 1 arasında olması beklenir.\n",
        "4. Büyük Veri Setlerinde İstatistiksel Özetleme:\n",
        "392,738 satırlık bir veri setiyle çalışırken, tüm satırları analiz etmek yerine bu özet istatistiklerle verinin genel eğilimlerini daha hızlı görebiliriz.\n",
        "5. Model Seçimi ve Hazırlık:\n",
        "Makine öğrenimi veya veri analizi modelleri için, özelliklerin ölçeğini ve dağılımını anlamak, modelin daha iyi performans göstermesi için önemlidir.\n",
        "6. Karar Verme:\n",
        "Örneğin, \"UnitPrice\" sütununda standart sapma yüksekse, fiyatlardaki çeşitliliğin fazla olduğunu anlar ve farklı stratejiler uygulayabilirsiniz (örneğin, veriyi gruplayabilirsiniz).\n",
        "7. Sonuç:\n",
        "Bu tür hesaplamalar, büyük bir veri setinde normalizasyon sonrası süreci değerlendirmenize, verinin genel yapısını anlamanıza ve analitik ya da modelleme kararlarını daha bilinçli bir şekilde vermenize olanak tanır."
      ]
    },
    {
      "cell_type": "code",
      "execution_count": null,
      "metadata": {
        "colab": {
          "base_uri": "https://localhost:8080/"
        },
        "id": "aqDDGn4LZ1KG",
        "outputId": "b4f260f9-5601-4e8e-fe98-bc8451698165"
      },
      "outputs": [
        {
          "name": "stdout",
          "output_type": "stream",
          "text": [
            "Normalizasyon öncesi sütunların hesaplamaları:\n",
            "            Quantity    UnitPrice     TotalPrice\n",
            "mean       13.021823     3.116174      22.394749\n",
            "median      6.000000     1.950000      11.800000\n",
            "std       180.420210    22.096788     309.055588\n",
            "min         1.000000     0.000000       0.000000\n",
            "max     80995.000000  8142.750000  168469.600000\n",
            "\n",
            "\n",
            "Normalizasyon sonrası sütunların hesaplamaları:\n",
            "        QuantityNormalized  UnitPriceNormalized  TotalPriceNormalized\n",
            "mean              0.000148             0.000383              0.000133\n",
            "median            0.000062             0.000239              0.000070\n",
            "std               0.002228             0.002714              0.001834\n",
            "min               0.000000             0.000000              0.000000\n",
            "max               1.000000             1.000000              1.000000\n"
          ]
        }
      ],
      "source": [
        "import pandas as pd\n",
        "\n",
        "file_path = \"7-)Feature Engineered with Normalized Columns.xlsx\"\n",
        "df = pd.read_excel(file_path)\n",
        "\n",
        "# Normalizasyon öncesi sütunlar\n",
        "columns_original = ['Quantity', 'UnitPrice', 'TotalPrice']\n",
        "\n",
        "# Normalizasyon sonrası sütunlar\n",
        "columns_normalized = ['QuantityNormalized', 'UnitPriceNormalized', 'TotalPriceNormalized']\n",
        "\n",
        "# Hesaplamalar: Normalizasyon öncesi\n",
        "summary_stats_original = df[columns_original].agg(['mean', 'median', 'std', 'min', 'max'])\n",
        "\n",
        "# Hesaplamalar: Normalizasyon sonrası\n",
        "summary_stats_normalized = df[columns_normalized].agg(['mean', 'median', 'std', 'min', 'max'])\n",
        "\n",
        "\n",
        "print(\"Normalizasyon öncesi sütunların hesaplamaları:\")\n",
        "print(summary_stats_original)\n",
        "print(\"\")\n",
        "\n",
        "print(\"\\nNormalizasyon sonrası sütunların hesaplamaları:\")\n",
        "print(summary_stats_normalized)\n"
      ]
    },
    {
      "cell_type": "code",
      "execution_count": null,
      "metadata": {
        "colab": {
          "base_uri": "https://localhost:8080/"
        },
        "id": "aeJl6KqFZ6WX",
        "outputId": "b6a86daa-f7ee-4997-fcf1-63169ca21f46"
      },
      "outputs": [
        {
          "name": "stdout",
          "output_type": "stream",
          "text": [
            "Ülke ve Kod Tablosu (001, 002, ...):\n",
            "                 Country Code\n",
            "0         United Kingdom  001\n",
            "1                 France  002\n",
            "2              Australia  003\n",
            "3            Netherlands  004\n",
            "4                Germany  005\n",
            "5                 Norway  006\n",
            "6                   EIRE  007\n",
            "7            Switzerland  008\n",
            "8                  Spain  009\n",
            "9                 Poland  010\n",
            "10              Portugal  011\n",
            "11                 Italy  012\n",
            "12               Belgium  013\n",
            "13             Lithuania  014\n",
            "14                 Japan  015\n",
            "15               Iceland  016\n",
            "16       Channel Islands  017\n",
            "17               Denmark  018\n",
            "18                Cyprus  019\n",
            "19                Sweden  020\n",
            "20               Finland  021\n",
            "21               Austria  022\n",
            "22                Greece  023\n",
            "23             Singapore  024\n",
            "24               Lebanon  025\n",
            "25  United Arab Emirates  026\n",
            "26                Israel  027\n",
            "27          Saudi Arabia  028\n",
            "28        Czech Republic  029\n",
            "29                Canada  030\n",
            "30           Unspecified  031\n",
            "31                Brazil  032\n",
            "32                   USA  033\n",
            "33    European Community  034\n",
            "34               Bahrain  035\n",
            "35                 Malta  036\n",
            "36                   RSA  037\n"
          ]
        }
      ],
      "source": [
        "import pandas as pd\n",
        "\n",
        "file_path = \"7-)Feature Engineered with Normalized Columns.xlsx\"\n",
        "df = pd.read_excel(file_path)\n",
        "\n",
        "# Benzersiz ülkeler ve 3 basamaklı kodlar oluştur\n",
        "unique_countries = pd.DataFrame({\n",
        "    'Country': df['Country'].unique(),\n",
        "    'Code': [format(i + 1, '03d') for i in range(len(df['Country'].unique()))]\n",
        "})\n",
        "\n",
        "# Ülke adlarını 3 basamaklı kodlara dönüştürmek için bir eşleme haritası oluştur\n",
        "country_to_numeric_map = dict(zip(unique_countries['Country'], unique_countries['Code']))\n",
        "\n",
        "# 'Country' sütununu 3 basamaklı kodlarla güncelle\n",
        "df['Country'] = df['Country'].map(country_to_numeric_map)\n",
        "\n",
        "# Güncellenmiş dosyayı kaydet\n",
        "output_file_path = \"8-)Country_with_Numeric_Value_Updated.xlsx\"\n",
        "df.to_excel(output_file_path, index=False)\n",
        "\n",
        "# Ülkeler ve kodlar tablosunu göster\n",
        "print(\"Ülke ve Kod Tablosu (001, 002, ...):\")\n",
        "print(unique_countries)\n"
      ]
    }
  ],
  "metadata": {
    "colab": {
      "provenance": []
    },
    "kernelspec": {
      "display_name": "Python 3",
      "name": "python3"
    },
    "language_info": {
      "name": "python"
    }
  },
  "nbformat": 4,
  "nbformat_minor": 0
}
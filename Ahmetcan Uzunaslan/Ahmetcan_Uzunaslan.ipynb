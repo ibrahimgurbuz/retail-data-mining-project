{
  "nbformat": 4,
  "nbformat_minor": 0,
  "metadata": {
    "colab": {
      "provenance": []
    },
    "kernelspec": {
      "name": "python3",
      "display_name": "Python 3"
    },
    "language_info": {
      "name": "python"
    }
  },
  "cells": [
    {
      "cell_type": "code",
      "execution_count": 11,
      "metadata": {
        "colab": {
          "base_uri": "https://localhost:8080/"
        },
        "id": "J6yNZhiTAmb7",
        "outputId": "fb4028af-214a-4d24-8e28-b15120de660c"
      },
      "outputs": [
        {
          "output_type": "stream",
          "name": "stdout",
          "text": [
            "Accuracy score: 0.8870\n",
            "Classification report:\n",
            "              precision    recall  f1-score   support\n",
            "\n",
            "        High       0.75      0.46      0.57        13\n",
            "         Low       0.93      0.91      0.92       114\n",
            "      Medium       0.86      0.91      0.88       112\n",
            "\n",
            "    accuracy                           0.89       239\n",
            "   macro avg       0.85      0.76      0.79       239\n",
            "weighted avg       0.89      0.89      0.88       239\n",
            "\n"
          ]
        }
      ],
      "source": [
        "import pandas as pd\n",
        "import numpy as np\n",
        "from sklearn.ensemble import RandomForestClassifier\n",
        "from sklearn.model_selection import KFold, train_test_split, cross_validate\n",
        "from sklearn.metrics import classification_report, accuracy_score\n",
        "\n",
        "file_path = \"dataset.xlsx\"\n",
        "df = pd.read_excel(file_path)\n",
        "\n",
        "df['TotalPrice'] = df['Quantity'] * df['UnitPrice']\n",
        "\n",
        "rfm = df.groupby('CustomerID').agg({\n",
        "    'InvoiceDate': lambda x: (df['InvoiceDate'].max() - x.max()).days,\n",
        "    'InvoiceNo': 'count',\n",
        "    'TotalPrice': 'sum'\n",
        "}).reset_index()\n",
        "\n",
        "rfm.columns = ['CustomerID', 'Recency', 'Frequency', 'Monetary']\n",
        "\n",
        "rfm['R_Score'] = pd.qcut(rfm['Recency'].rank(method='first'), q=4, labels=[4, 3, 2, 1])\n",
        "rfm['F_Score'] = pd.qcut(rfm['Frequency'].rank(method='first'), q=4, labels=[1, 2, 3, 4])\n",
        "rfm['M_Score'] = pd.qcut(rfm['Monetary'].rank(method='first'), q=4, labels=[1, 2, 3, 4])\n",
        "\n",
        "rfm['RFM_Segment'] = rfm['R_Score'].astype(str) + rfm['F_Score'].astype(str) + rfm['M_Score'].astype(str)\n",
        "rfm['RFM_Score'] = rfm[['R_Score', 'F_Score', 'M_Score']].sum(axis=1)\n",
        "\n",
        "rfm['Segment'] = pd.cut(rfm['RFM_Score'], bins=[3, 7, 10, 12], labels=['Low', 'Medium', 'High'], include_lowest=True)\n",
        "\n",
        "X = rfm[['Recency', 'Frequency', 'Monetary']]\n",
        "y = rfm['Segment']\n",
        "\n",
        "\n",
        "model=RandomForestClassifier(random_state=42)\n",
        "\n",
        "\n",
        "kf = KFold(n_splits=5, shuffle=False)\n",
        "\n",
        "y_true_all = []\n",
        "y_pred_all = []\n",
        "\n",
        "for train_index, test_index in kf.split(X):\n",
        "  X_train, X_test = X.iloc[train_index], X.iloc[test_index]\n",
        "  y_train, y_test = y.iloc[train_index], y.iloc[test_index]\n",
        "  model.fit(X_train, y_train)\n",
        "  y_pred = model.predict(X_test)\n",
        "  y_true_all.extend(y_test)\n",
        "  y_pred_all.extend(y_pred)\n",
        "\n",
        "accuracy = accuracy_score(y_true_all, y_pred_all)\n",
        "print(f\"Accuracy score: {accuracy:.4f}\")\n",
        "print(\"Classification report:\")\n",
        "print(classification_report(y_true_all, y_pred_all))\n"
      ]
    }
  ]
}